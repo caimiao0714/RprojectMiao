{
 "cells": [
  {
   "cell_type": "code",
   "execution_count": 10,
   "metadata": {},
   "outputs": [
    {
     "data": {
      "text/plain": [
       "'/Users/miaocai/Dropbox/RprojectMiao'"
      ]
     },
     "execution_count": 10,
     "metadata": {},
     "output_type": "execute_result"
    }
   ],
   "source": [
    "import requests\n",
    "from bs4 import BeautifulSoup\n",
    "import os\n",
    "\n",
    "headers={\n",
    "    'authority': 'https://urldefense.proofpoint.com/v2/url?u=http-3A__www.icd10data.com&d=DwIGaQ&c=Pk_HpaIpE_jAoEC9PLIWoQ&r=JmcOWRREvoqtPNzIgLoC0Q&m=GD-yeDT28A_ZEnVehWAnQG_7SSsQorvGu-dDoFSuHsk&s=DCEQIfEeg3wmeQCHVq-5MHAulpvSW4MCApEHPsBVlMY&e= ',\n",
    "    'method': 'GET',\n",
    "    'path': '/Convert/36.03',\n",
    "    'scheme': 'https',\n",
    "    'accept': 'text/html,application/xhtml+xml,application/xml;q=0.9,image/webp,image/apng,*/*;q=0.8,application/signed-exchange;v=b3',\n",
    "    'accept-encoding': 'gzip, deflate, br',\n",
    "    'accept-language': 'zh-CN,zh;q=0.9',\n",
    "    'cache-control': 'max-age=0',\n",
    "    'cookie': '_ga=GA1.2.1086716260.1563868202; _gid=GA1.2.1478799181.1563868202; __hstc=93424706.6b6b93f18691ef5d9414641b440bdd8c.1563868411367.1563868411367.1563868411367.1; hubspotutk=6b6b93f18691ef5d9414641b440bdd8c; __hssrc=1; __hssc=93424706.4.1563868411367',\n",
    "    'upgrade-insecure-requests': '1',\n",
    "    'User-Agent': 'Mozilla/5.0 (Macintosh; Intel Mac OS X 10_14_5) AppleWebKit/537.36 (KHTML, like Gecko) Chrome/75.0.3770.142 Safari/537.36',\n",
    "}\n",
    "\n",
    "proxy={'http':'socks5://127.0.0.1:1080',\n",
    "        'https':'socks5://127.0.0.1:1080'}#本机代理\n",
    "\n",
    "os.getcwd()"
   ]
  },
  {
   "cell_type": "code",
   "execution_count": 12,
   "metadata": {
    "scrolled": false
   },
   "outputs": [
    {
     "name": "stdout",
     "output_type": "stream",
     "text": [
      "02700ZZ\n",
      "02710ZZ\n",
      "02720ZZ\n",
      "02730ZZ\n",
      "02C00ZZ\n",
      "02C10ZZ\n",
      "02C20ZZ\n",
      "02C30ZZ\n"
     ]
    }
   ],
   "source": [
    "url='https://urldefense.proofpoint.com/v2/url?u=https-3A__www.icd10data.com_Convert_36.03&d=DwIGaQ&c=Pk_HpaIpE_jAoEC9PLIWoQ&r=JmcOWRREvoqtPNzIgLoC0Q&m=GD-yeDT28A_ZEnVehWAnQG_7SSsQorvGu-dDoFSuHsk&s=uMEdwrjr_ifBnAni--TRmGS5zBFcBQEnRoeFmXhUGQw&e= '\n",
    "req=requests.get(url,headers=headers,timeout=50)#,proxies=proxy\n",
    "bsObj=BeautifulSoup(req.text,'html.parser')\n",
    "ul=bsObj.find('ul',class_='ulConversion')#取出ul\n",
    "li_list=ul.find_all('li')#取出li列表\n",
    "\n",
    "f=open('icd_10_pcs.txt','w+',encoding='utf-8')#打开txt文件，每次都清空，重新写入\n",
    "\n",
    "for li in li_list:\n",
    "    a=li.find('a')\n",
    "    alt=a.attrs['alt']\n",
    "    pcs=alt.split(' ')[-1]\n",
    "    print(pcs)\n",
    "    f.write(pcs+'\\n')\n",
    "f.close()"
   ]
  },
  {
   "cell_type": "code",
   "execution_count": 13,
   "metadata": {},
   "outputs": [
    {
     "name": "stdout",
     "output_type": "stream",
     "text": [
      "031H09G\n",
      "031H0AG\n",
      "031H0JG\n",
      "031H0KG\n",
      "031H0ZG\n",
      "031J09G\n",
      "031J0AG\n",
      "031J0JG\n",
      "031J0KG\n",
      "031J0ZG\n",
      "031S09G\n",
      "031S0AG\n",
      "031S0JG\n",
      "031S0KG\n",
      "031S0ZG\n",
      "031T09G\n",
      "031T0AG\n",
      "031T0JG\n",
      "031T0KG\n",
      "031T0ZG\n"
     ]
    }
   ],
   "source": []
  },
  {
   "cell_type": "code",
   "execution_count": 17,
   "metadata": {},
   "outputs": [
    {
     "name": "stdout",
     "output_type": "stream",
     "text": [
      "03C50ZZ\n",
      "03C53ZZ\n",
      "03C54ZZ\n",
      "03C60ZZ\n",
      "03C63ZZ\n",
      "03C64ZZ\n",
      "03C70ZZ\n",
      "03C73ZZ\n",
      "03C74ZZ\n",
      "03C80ZZ\n",
      "03C83ZZ\n",
      "03C84ZZ\n",
      "03C90ZZ\n",
      "03C93ZZ\n",
      "03C94ZZ\n",
      "03CA0ZZ\n",
      "03CA3ZZ\n",
      "03CA4ZZ\n",
      "03CB0ZZ\n",
      "03CB3ZZ\n",
      "03CB4ZZ\n",
      "03CC0ZZ\n",
      "03CC3ZZ\n",
      "03CC4ZZ\n",
      "03CD0ZZ\n",
      "03CD3ZZ\n",
      "03CD4ZZ\n",
      "03CF0ZZ\n",
      "03CF3ZZ\n",
      "03CF4ZZ\n",
      "03CY0ZZ\n",
      "03CY3ZZ\n",
      "03CY4ZZ\n"
     ]
    }
   ],
   "source": [
    "# 38.13\n",
    "url='https://www.icd10data.com/Convert/38.13'\n",
    "req=requests.get(url,headers=headers,timeout=50)#,proxies=proxy\n",
    "bsObj=BeautifulSoup(req.text,'html.parser')\n",
    "ul=bsObj.find('ul',class_='ulConversion')#取出ul\n",
    "li_list=ul.find_all('li')#取出li列表\n",
    "\n",
    "f=open('icd_10_pcs.txt','w+',encoding='utf-8')#打开txt文件，每次都清空，重新写入\n",
    "\n",
    "for li in li_list:\n",
    "    a=li.find('a')\n",
    "    alt=a.attrs['alt']\n",
    "    pcs=alt.split(' ')[-1]\n",
    "    print(pcs)\n",
    "    f.write(pcs+', ')\n",
    "f.close()"
   ]
  },
  {
   "cell_type": "code",
   "execution_count": 19,
   "metadata": {},
   "outputs": [
    {
     "name": "stdout",
     "output_type": "stream",
     "text": [
      "02CW0ZZ\n",
      "02CW3ZZ\n",
      "02CW4ZZ\n",
      "02CX0ZZ\n",
      "02CX3ZZ\n",
      "02CX4ZZ\n",
      "04C00ZZ\n",
      "04C03ZZ\n",
      "04C04ZZ\n"
     ]
    }
   ],
   "source": [
    "# 38.14\n",
    "url='https://www.icd10data.com/Convert/38.14'\n",
    "req=requests.get(url,headers=headers,timeout=50)#,proxies=proxy\n",
    "bsObj=BeautifulSoup(req.text,'html.parser')\n",
    "ul=bsObj.find('ul',class_='ulConversion')#取出ul\n",
    "li_list=ul.find_all('li')#取出li列表\n",
    "\n",
    "f=open('icd_10_pcs.txt','w+',encoding='utf-8')#打开txt文件，每次都清空，重新写入\n",
    "\n",
    "for li in li_list:\n",
    "    a=li.find('a')\n",
    "    alt=a.attrs['alt']\n",
    "    pcs=alt.split(' ')[-1]\n",
    "    print(pcs)\n",
    "    f.write(pcs+', ')\n",
    "f.close()"
   ]
  },
  {
   "cell_type": "code",
   "execution_count": 20,
   "metadata": {},
   "outputs": [
    {
     "name": "stdout",
     "output_type": "stream",
     "text": [
      "02CP0ZZ\n",
      "02CP3ZZ\n",
      "02CP4ZZ\n",
      "02CQ0ZZ\n",
      "02CQ3ZZ\n",
      "02CQ4ZZ\n",
      "02CR0ZZ\n",
      "02CR3ZZ\n",
      "02CR4ZZ\n",
      "02CS0ZZ\n",
      "02CS3ZZ\n",
      "02CS4ZZ\n",
      "02CT0ZZ\n",
      "02CT3ZZ\n",
      "02CT4ZZ\n",
      "02CV0ZZ\n",
      "02CV3ZZ\n",
      "02CV4ZZ\n",
      "03C00ZZ\n",
      "03C03ZZ\n",
      "03C04ZZ\n",
      "03C10ZZ\n",
      "03C13ZZ\n",
      "03C14ZZ\n",
      "03C20ZZ\n",
      "03C23ZZ\n",
      "03C24ZZ\n",
      "03C30ZZ\n",
      "03C33ZZ\n",
      "03C34ZZ\n",
      "03C40ZZ\n",
      "03C43ZZ\n",
      "03C44ZZ\n"
     ]
    }
   ],
   "source": [
    "# 38.15\n",
    "url='https://www.icd10data.com/Convert/38.15'\n",
    "req=requests.get(url,headers=headers,timeout=50)#,proxies=proxy\n",
    "bsObj=BeautifulSoup(req.text,'html.parser')\n",
    "ul=bsObj.find('ul',class_='ulConversion')#取出ul\n",
    "li_list=ul.find_all('li')#取出li列表\n",
    "\n",
    "f=open('icd_10_pcs.txt','w+',encoding='utf-8')#打开txt文件，每次都清空，重新写入\n",
    "\n",
    "for li in li_list:\n",
    "    a=li.find('a')\n",
    "    alt=a.attrs['alt']\n",
    "    pcs=alt.split(' ')[-1]\n",
    "    print(pcs)\n",
    "    f.write(pcs+', ')\n",
    "f.close()"
   ]
  },
  {
   "cell_type": "code",
   "execution_count": 21,
   "metadata": {},
   "outputs": [
    {
     "name": "stdout",
     "output_type": "stream",
     "text": [
      "04C10ZZ\n",
      "04C13ZZ\n",
      "04C14ZZ\n",
      "04C20ZZ\n",
      "04C23ZZ\n",
      "04C24ZZ\n",
      "04C30ZZ\n",
      "04C33ZZ\n",
      "04C34ZZ\n",
      "04C40ZZ\n",
      "04C43ZZ\n",
      "04C44ZZ\n",
      "04C50ZZ\n",
      "04C53ZZ\n",
      "04C54ZZ\n",
      "04C60ZZ\n",
      "04C63ZZ\n",
      "04C64ZZ\n",
      "04C70ZZ\n",
      "04C73ZZ\n",
      "04C74ZZ\n",
      "04C80ZZ\n",
      "04C83ZZ\n",
      "04C84ZZ\n",
      "04C90ZZ\n",
      "04C93ZZ\n",
      "04C94ZZ\n",
      "04CA0ZZ\n",
      "04CA3ZZ\n",
      "04CA4ZZ\n",
      "04CB0ZZ\n",
      "04CB3ZZ\n",
      "04CB4ZZ\n",
      "04CC0ZZ\n",
      "04CC3ZZ\n",
      "04CC4ZZ\n",
      "04CD0ZZ\n",
      "04CD3ZZ\n",
      "04CD4ZZ\n",
      "04CE0ZZ\n",
      "04CE3ZZ\n",
      "04CE4ZZ\n",
      "04CF0ZZ\n",
      "04CF3ZZ\n",
      "04CF4ZZ\n",
      "04CH0ZZ\n",
      "04CH3ZZ\n",
      "04CH4ZZ\n",
      "04CJ0ZZ\n",
      "04CJ3ZZ\n",
      "04CJ4ZZ\n"
     ]
    }
   ],
   "source": [
    "# 38.16\n",
    "url='https://www.icd10data.com/Convert/38.16'\n",
    "req=requests.get(url,headers=headers,timeout=50)#,proxies=proxy\n",
    "bsObj=BeautifulSoup(req.text,'html.parser')\n",
    "ul=bsObj.find('ul',class_='ulConversion')#取出ul\n",
    "li_list=ul.find_all('li')#取出li列表\n",
    "\n",
    "f=open('icd_10_pcs.txt','w+',encoding='utf-8')#打开txt文件，每次都清空，重新写入\n",
    "\n",
    "for li in li_list:\n",
    "    a=li.find('a')\n",
    "    alt=a.attrs['alt']\n",
    "    pcs=alt.split(' ')[-1]\n",
    "    print(pcs)\n",
    "    f.write(pcs+', ')\n",
    "f.close()"
   ]
  },
  {
   "cell_type": "code",
   "execution_count": null,
   "metadata": {},
   "outputs": [],
   "source": [
    "# 38.18\n",
    "url='https://www.icd10data.com/Convert/38.18'\n",
    "req=requests.get(url,headers=headers,timeout=50)#,proxies=proxy\n",
    "bsObj=BeautifulSoup(req.text,'html.parser')\n",
    "ul=bsObj.find('ul',class_='ulConversion')#取出ul\n",
    "li_list=ul.find_all('li')#取出li列表\n",
    "\n",
    "f=open('icd_10_pcs.txt','w+',encoding='utf-8')#打开txt文件，每次都清空，重新写入\n",
    "\n",
    "for li in li_list:\n",
    "    a=li.find('a')\n",
    "    alt=a.attrs['alt']\n",
    "    pcs=alt.split(' ')[-1]\n",
    "    print(pcs)\n",
    "    f.write(pcs+', ')\n",
    "f.close()"
   ]
  },
  {
   "cell_type": "code",
   "execution_count": null,
   "metadata": {},
   "outputs": [],
   "source": [
    "# 39.22\n",
    "url='https://www.icd10data.com/Convert/39.22'\n",
    "req=requests.get(url,headers=headers,timeout=50)#,proxies=proxy\n",
    "bsObj=BeautifulSoup(req.text,'html.parser')\n",
    "ul=bsObj.find('ul',class_='ulConversion')#取出ul\n",
    "li_list=ul.find_all('li')#取出li列表\n",
    "\n",
    "f=open('icd_10_pcs.txt','w+',encoding='utf-8')#打开txt文件，每次都清空，重新写入\n",
    "\n",
    "for li in li_list:\n",
    "    a=li.find('a')\n",
    "    alt=a.attrs['alt']\n",
    "    pcs=alt.split(' ')[-1]\n",
    "    print(pcs)\n",
    "    f.write(pcs+', ')\n",
    "f.close()"
   ]
  },
  {
   "cell_type": "code",
   "execution_count": null,
   "metadata": {},
   "outputs": [],
   "source": [
    "# 39.24\n",
    "url='https://www.icd10data.com/Convert/39.24'\n",
    "req=requests.get(url,headers=headers,timeout=50)#,proxies=proxy\n",
    "bsObj=BeautifulSoup(req.text,'html.parser')\n",
    "ul=bsObj.find('ul',class_='ulConversion')#取出ul\n",
    "li_list=ul.find_all('li')#取出li列表\n",
    "\n",
    "f=open('icd_10_pcs.txt','w+',encoding='utf-8')#打开txt文件，每次都清空，重新写入\n",
    "\n",
    "for li in li_list:\n",
    "    a=li.find('a')\n",
    "    alt=a.attrs['alt']\n",
    "    pcs=alt.split(' ')[-1]\n",
    "    print(pcs)\n",
    "    f.write(pcs+', ')\n",
    "f.close()"
   ]
  },
  {
   "cell_type": "code",
   "execution_count": null,
   "metadata": {},
   "outputs": [],
   "source": [
    "# 39.25\n",
    "url='https://www.icd10data.com/Convert/39.25'\n",
    "req=requests.get(url,headers=headers,timeout=50)#,proxies=proxy\n",
    "bsObj=BeautifulSoup(req.text,'html.parser')\n",
    "ul=bsObj.find('ul',class_='ulConversion')#取出ul\n",
    "li_list=ul.find_all('li')#取出li列表\n",
    "\n",
    "f=open('icd_10_pcs.txt','w+',encoding='utf-8')#打开txt文件，每次都清空，重新写入\n",
    "\n",
    "for li in li_list:\n",
    "    a=li.find('a')\n",
    "    alt=a.attrs['alt']\n",
    "    pcs=alt.split(' ')[-1]\n",
    "    print(pcs)\n",
    "    f.write(pcs+', ')\n",
    "f.close()"
   ]
  },
  {
   "cell_type": "code",
   "execution_count": null,
   "metadata": {},
   "outputs": [],
   "source": [
    "# 39.26\n",
    "url='https://www.icd10data.com/Convert/39.26'\n",
    "req=requests.get(url,headers=headers,timeout=50)#,proxies=proxy\n",
    "bsObj=BeautifulSoup(req.text,'html.parser')\n",
    "ul=bsObj.find('ul',class_='ulConversion')#取出ul\n",
    "li_list=ul.find_all('li')#取出li列表\n",
    "\n",
    "f=open('icd_10_pcs.txt','w+',encoding='utf-8')#打开txt文件，每次都清空，重新写入\n",
    "\n",
    "for li in li_list:\n",
    "    a=li.find('a')\n",
    "    alt=a.attrs['alt']\n",
    "    pcs=alt.split(' ')[-1]\n",
    "    print(pcs)\n",
    "    f.write(pcs+', ')\n",
    "f.close()"
   ]
  },
  {
   "cell_type": "code",
   "execution_count": null,
   "metadata": {},
   "outputs": [],
   "source": [
    "# 39.28\n",
    "url='https://www.icd10data.com/Convert/39.28'\n",
    "req=requests.get(url,headers=headers,timeout=50)#,proxies=proxy\n",
    "bsObj=BeautifulSoup(req.text,'html.parser')\n",
    "ul=bsObj.find('ul',class_='ulConversion')#取出ul\n",
    "li_list=ul.find_all('li')#取出li列表\n",
    "\n",
    "f=open('icd_10_pcs.txt','w+',encoding='utf-8')#打开txt文件，每次都清空，重新写入\n",
    "\n",
    "for li in li_list:\n",
    "    a=li.find('a')\n",
    "    alt=a.attrs['alt']\n",
    "    pcs=alt.split(' ')[-1]\n",
    "    print(pcs)\n",
    "    f.write(pcs+', ')\n",
    "f.close()"
   ]
  }
 ],
 "metadata": {
  "kernelspec": {
   "display_name": "Python 3",
   "language": "python",
   "name": "python3"
  },
  "language_info": {
   "codemirror_mode": {
    "name": "ipython",
    "version": 3
   },
   "file_extension": ".py",
   "mimetype": "text/x-python",
   "name": "python",
   "nbconvert_exporter": "python",
   "pygments_lexer": "ipython3",
   "version": "3.6.8"
  }
 },
 "nbformat": 4,
 "nbformat_minor": 2
}
