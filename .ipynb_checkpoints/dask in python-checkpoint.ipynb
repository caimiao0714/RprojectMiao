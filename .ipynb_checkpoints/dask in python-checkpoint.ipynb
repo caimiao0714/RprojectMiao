{
 "cells": [
  {
   "cell_type": "markdown",
   "metadata": {},
   "source": [
    "Author: Miao Cai [miao.cai@slu.edu](miao.cai@slu.edu)\n",
    "\n",
    "# Storage on computers\n",
    "\n",
    "| Byte     | B  | storage on disk |\n",
    "| -------- | -- | --------------- |\n",
    "| Byte     | B  | $2^3$ bits   |\n",
    "| Kilobyte | KB | $2^10$ Bytes |\n",
    "| Megabyte | MB | $2^20$ Bytes |\n",
    "| Gigabyte | GB | $2^30$ Bytes |\n",
    "| Terabyte | TB | $2^40$ Bytes |\n",
    "\n",
    "The jump from RAM to disk to cloud, the processing time jumps from seconds to minutes to days."
   ]
  },
  {
   "cell_type": "code",
   "execution_count": 6,
   "metadata": {},
   "outputs": [],
   "source": [
    "import psutil, os\n",
    "import pandas as pd\n",
    "def memory_footprint():\n",
    "    '''Returns memory (in MB) being used by Python process'''\n",
    "    mem = psutil.Process(os.getpid()).memory_info().rss\n",
    "    return(mem/1024**2)"
   ]
  },
  {
   "cell_type": "code",
   "execution_count": 2,
   "metadata": {},
   "outputs": [
    {
     "name": "stdout",
     "output_type": "stream",
     "text": [
      "Memory before: 54.2578125 MB\n",
      "Memory after: 104.28515625 MB\n"
     ]
    }
   ],
   "source": [
    "import numpy as np\n",
    "before = memory_footprint()\n",
    "N = ( 1024**2 ) // 8 # number of floats that fill 1 MB\n",
    "x = np.random.randn(50*N) # Random array filling 50 MB\n",
    "after = memory_footprint()\n",
    "\n",
    "print('Memory before: {} MB'.format(before))\n",
    "print('Memory after: {} MB'.format(after))"
   ]
  },
  {
   "cell_type": "markdown",
   "metadata": {},
   "source": [
    "## Allocating memory for a computation"
   ]
  },
  {
   "cell_type": "code",
   "execution_count": 4,
   "metadata": {},
   "outputs": [
    {
     "name": "stdout",
     "output_type": "stream",
     "text": [
      "Extra memory obtained: 50.0 MB\n"
     ]
    }
   ],
   "source": [
    "before = memory_footprint()\n",
    "x ** 2 # compute, bute does not bind result to a variable\n",
    "after = memory_footprint()\n",
    "print('Extra memory obtained: {} MB'.format(after - before))"
   ]
  },
  {
   "cell_type": "code",
   "execution_count": 5,
   "metadata": {},
   "outputs": [
    {
     "data": {
      "text/plain": [
       "52428800"
      ]
     },
     "execution_count": 5,
     "metadata": {},
     "output_type": "execute_result"
    }
   ],
   "source": [
    "x.nbytes # memory footprint in bytes (B)\n",
    "x.nbytes // (1024 ** 2) # memory footprint in megabytes (MB)"
   ]
  },
  {
   "cell_type": "code",
   "execution_count": 10,
   "metadata": {},
   "outputs": [
    {
     "data": {
      "text/plain": [
       "0    50\n",
       "dtype: int64"
      ]
     },
     "execution_count": 10,
     "metadata": {},
     "output_type": "execute_result"
    }
   ],
   "source": [
    "df = pd.DataFrame(x)\n",
    "df.info()\n",
    "df.memory_usage(index = False)\n",
    "df.memory_usage(index = False) // (1024 ** 2)"
   ]
  },
  {
   "cell_type": "code",
   "execution_count": null,
   "metadata": {},
   "outputs": [],
   "source": []
  }
 ],
 "metadata": {
  "kernelspec": {
   "display_name": "Python 3",
   "language": "python",
   "name": "python3"
  },
  "language_info": {
   "codemirror_mode": {
    "name": "ipython",
    "version": 3
   },
   "file_extension": ".py",
   "mimetype": "text/x-python",
   "name": "python",
   "nbconvert_exporter": "python",
   "pygments_lexer": "ipython3",
   "version": "3.6.7"
  }
 },
 "nbformat": 4,
 "nbformat_minor": 2
}
