{
 "cells": [
  {
   "cell_type": "markdown",
   "metadata": {},
   "source": [
    "# XGBoost in pipelines\n",
    "\n",
    "**Miao Cai**\n",
    "\n",
    "## Review of pipelines using sklearn\n",
    "\n",
    "Pipeline is an `sklearn` object that take a list of named tuples as input. The named tuples must always contain a string name as the first element in each tuple, and any scikit-learn compatible transformer or estimator object as the second element.\n",
    "\n",
    "- Takes a list of named 2-tuples (name, pipeline_step) as input\n",
    "- Tuples can contain any arbitrary scikit-learn compatible estimator or transformer object.\n",
    "- Each named tuple in the pipeline is called a step, and the list of transformations that are contained in the list are executed in order once some data is passed through the pipeline.\n",
    "- Pipeline implements fit/predict methods\n",
    "- Pipeline can be used as input estimator into grid/randomized search and cross_val_score methods\n",
    "\n",
    "`neg_mean_squared_error` is scikit-learn's API-specific way of calculating the mean squared error in an API-compatible way.\n",
    "\n",
    "## Preprocessing 1: LabelEncoder and OneHotEncoder\n",
    "\n",
    "- `LabelEncoder`: Converts a categorical column of strings into integers\n",
    "- `OneHotEncoder`: Take the column of integers and encodes them as dummy variables\n",
    "- These two-step method cannot currently be done within a pipeline.\n",
    "\n",
    "## Preprocessing 2: DictVectorizer\n",
    "\n",
    "The `DictVectorizer` is a class found in scikit-learn's feature extraction submodule, and is traditionally used in text processing pipelines by converting lists of feature mappings into vectors. It can accomplish both steps in one line of code.\n",
    "\n",
    "- Traditionally used in text processing\n",
    "- Converts lists of feature mappings into vectors\n",
    "- Need to convert DataFrame into a list of dictionary entries\n",
    "- Explore the scikit-learn documentation\n",
    "\n",
    "\n"
   ]
  }
 ],
 "metadata": {
  "kernelspec": {
   "display_name": "p36ws",
   "language": "python",
   "name": "p36ws"
  },
  "language_info": {
   "codemirror_mode": {
    "name": "ipython",
    "version": 3
   },
   "file_extension": ".py",
   "mimetype": "text/x-python",
   "name": "python",
   "nbconvert_exporter": "python",
   "pygments_lexer": "ipython3",
   "version": "3.6.8"
  }
 },
 "nbformat": 4,
 "nbformat_minor": 2
}
