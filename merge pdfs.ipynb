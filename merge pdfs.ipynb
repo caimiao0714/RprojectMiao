{
 "cells": [
  {
   "cell_type": "code",
   "execution_count": 1,
   "metadata": {
    "scrolled": false
   },
   "outputs": [],
   "source": [
    "import os\n",
    "files = [f for f in os.listdir('.') if os.path.isfile(f) and f.endswith(('.pdf', '.PDF'))]"
   ]
  },
  {
   "cell_type": "code",
   "execution_count": 2,
   "metadata": {},
   "outputs": [],
   "source": [
    "# solution 1\n",
    "from pdfrw import PdfReader, PdfWriter\n",
    "\n",
    "writer = PdfWriter()\n",
    "for inpfn in files:\n",
    "    writer.addpages(PdfReader(inpfn).pages)\n",
    "writer.write('mergedpdf.pdf')"
   ]
  },
  {
   "cell_type": "code",
   "execution_count": 3,
   "metadata": {},
   "outputs": [
    {
     "name": "stderr",
     "output_type": "stream",
     "text": [
      "PdfReadWarning: Xref table not zero-indexed. ID numbers for objects will be corrected. [pdf.py:1736]\n"
     ]
    }
   ],
   "source": [
    "# solution 2\n",
    "from PyPDF2 import PdfFileMerger, PdfFileReader\n",
    "\n",
    "merger = PdfFileMerger()\n",
    "for filename in files:\n",
    "    merger.append(filename)\n",
    "    \n",
    "merger.write('mergedpdf1.pdf')"
   ]
  },
  {
   "cell_type": "code",
   "execution_count": null,
   "metadata": {},
   "outputs": [],
   "source": []
  }
 ],
 "metadata": {
  "kernelspec": {
   "display_name": "Python 2",
   "language": "python",
   "name": "python2"
  },
  "language_info": {
   "codemirror_mode": {
    "name": "ipython",
    "version": 2
   },
   "file_extension": ".py",
   "mimetype": "text/x-python",
   "name": "python",
   "nbconvert_exporter": "python",
   "pygments_lexer": "ipython2",
   "version": "2.7.10"
  }
 },
 "nbformat": 4,
 "nbformat_minor": 2
}
