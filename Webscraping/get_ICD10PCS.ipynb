{
 "cells": [
  {
   "cell_type": "markdown",
   "metadata": {},
   "source": [
    "# Translating ICD-9-PCS to ICD-10-PCS"
   ]
  },
  {
   "cell_type": "code",
   "execution_count": 1,
   "metadata": {},
   "outputs": [
    {
     "data": {
      "text/plain": [
       "'/Users/miaocai/Dropbox/RprojectMiao/Webscraping'"
      ]
     },
     "execution_count": 1,
     "metadata": {},
     "output_type": "execute_result"
    }
   ],
   "source": [
    "import os\n",
    "import requests\n",
    "from bs4 import BeautifulSoup\n",
    "os.getcwd()"
   ]
  },
  {
   "cell_type": "markdown",
   "metadata": {},
   "source": [
    "## Define the function"
   ]
  },
  {
   "cell_type": "code",
   "execution_count": 2,
   "metadata": {},
   "outputs": [],
   "source": [
    "headers={\n",
    "    'authority': 'www.icd10data.com',\n",
    "    'method': 'GET',\n",
    "    'path': '/Convert/36.03',\n",
    "    'scheme': 'https',\n",
    "    'accept': 'text/html,application/xhtml+xml,application/xml;q=0.9,image/webp,image/apng,*/*;q=0.8,application/signed-exchange;v=b3',\n",
    "    'accept-encoding': 'gzip, deflate, br',\n",
    "    'accept-language': 'zh-CN,zh;q=0.9',\n",
    "    'cache-control': 'max-age=0',\n",
    "    'cookie': '_ga=GA1.2.1086716260.1563868202; _gid=GA1.2.1478799181.1563868202; __hstc=93424706.6b6b93f18691ef5d9414641b440bdd8c.1563868411367.1563868411367.1563868411367.1; hubspotutk=6b6b93f18691ef5d9414641b440bdd8c; __hssrc=1; __hssc=93424706.4.1563868411367',\n",
    "    'upgrade-insecure-requests': '1',\n",
    "    'User-Agent': 'Mozilla/5.0 (Macintosh; Intel Mac OS X 10_14_5) AppleWebKit/537.36 (KHTML, like Gecko) Chrome/75.0.3770.142 Safari/537.36',\n",
    "}\n",
    "\n",
    "def get_code(url):\n",
    "\n",
    "    req=requests.get(url,headers=headers,timeout=50)\n",
    "    bsObj=BeautifulSoup(req.text,'html.parser')\n",
    "    ul=bsObj.find('ul',class_='ulConversion')#取出ul\n",
    "    li_list=ul.find_all('li')#取出li列表\n",
    "\n",
    "    f=open('icd_10_pcs.txt','a+',encoding='utf-8')#打开txt文件，每次都清空，重新写入\n",
    "\n",
    "    for li in li_list:\n",
    "        a=li.find('a')\n",
    "        alt=a.attrs['alt']\n",
    "        pcs=alt.split(' ')[-1]\n",
    "        #print(pcs)\n",
    "        f.write('\"'+ pcs + '\", ')\n",
    "    f.close()"
   ]
  },
  {
   "cell_type": "markdown",
   "metadata": {},
   "source": [
    "## Loop for a list of ICD-9-PCD codes"
   ]
  },
  {
   "cell_type": "code",
   "execution_count": 3,
   "metadata": {},
   "outputs": [],
   "source": [
    "url_list=['https://www.icd10data.com/Convert/36.03',\n",
    "          'https://www.icd10data.com/Convert/36.04',\n",
    "          'https://www.icd10data.com/Convert/36.09']\n",
    "\n",
    "for url in url_list:\n",
    "    get_code(url)\n"
   ]
  },
  {
   "cell_type": "markdown",
   "metadata": {},
   "source": [
    "## Print the contents of the resulting .txt file"
   ]
  },
  {
   "cell_type": "code",
   "execution_count": 4,
   "metadata": {},
   "outputs": [
    {
     "name": "stdout",
     "output_type": "stream",
     "text": [
      "\"02700ZZ\", \"02710ZZ\", \"02720ZZ\", \"02730ZZ\", \"02C00ZZ\", \"02C10ZZ\", \"02C20ZZ\", \"02C30ZZ\", \"3E07017\", \"3E070PZ\", \"3E07317\", \"3E073PZ\", \"02C03ZZ\", \"02C04ZZ\", \"02C13ZZ\", \"02C14ZZ\", \"02C23ZZ\", \"02C24ZZ\", \"02C33ZZ\", \"02C34ZZ\", \"02700ZZ\", \"02710ZZ\", \"02720ZZ\", \"02730ZZ\", \"02C00ZZ\", \"02C10ZZ\", \"02C20ZZ\", \"02C30ZZ\", \"3E07017\", \"3E070PZ\", \"3E07317\", \"3E073PZ\", \"02C03ZZ\", \"02C04ZZ\", \"02C13ZZ\", \"02C14ZZ\", \"02C23ZZ\", \"02C24ZZ\", \"02C33ZZ\", \"02C34ZZ\", \"02700ZZ\", \"02710ZZ\", \"02720ZZ\", \"02730ZZ\", \"02C00ZZ\", \"02C10ZZ\", \"02C20ZZ\", \"02C30ZZ\", \"3E07017\", \"3E070PZ\", \"3E07317\", \"3E073PZ\", \"02C03ZZ\", \"02C04ZZ\", \"02C13ZZ\", \"02C14ZZ\", \"02C23ZZ\", \"02C24ZZ\", \"02C33ZZ\", \"02C34ZZ\", \"02700ZZ\", \"02710ZZ\", \"02720ZZ\", \"02730ZZ\", \"02C00ZZ\", \"02C10ZZ\", \"02C20ZZ\", \"02C30ZZ\", \"3E07017\", \"3E070PZ\", \"3E07317\", \"3E073PZ\", \"02C03ZZ\", \"02C04ZZ\", \"02C13ZZ\", \"02C14ZZ\", \"02C23ZZ\", \"02C24ZZ\", \"02C33ZZ\", \"02C34ZZ\", \"02700ZZ\", \"02710ZZ\", \"02720ZZ\", \"02730ZZ\", \"02C00ZZ\", \"02C10ZZ\", \"02C20ZZ\", \"02C30ZZ\", \"3E07017\", \"3E070PZ\", \"3E07317\", \"3E073PZ\", \"02C03ZZ\", \"02C04ZZ\", \"02C13ZZ\", \"02C14ZZ\", \"02C23ZZ\", \"02C24ZZ\", \"02C33ZZ\", \"02C34ZZ\", \n"
     ]
    }
   ],
   "source": [
    "f0 = open('icd_10_pcs.txt','r',encoding='utf-8')\n",
    "f0_contents = f0.read()\n",
    "print(f0_contents)"
   ]
  }
 ],
 "metadata": {
  "kernelspec": {
   "display_name": "Python 3",
   "language": "python",
   "name": "python3"
  },
  "language_info": {
   "codemirror_mode": {
    "name": "ipython",
    "version": 3
   },
   "file_extension": ".py",
   "mimetype": "text/x-python",
   "name": "python",
   "nbconvert_exporter": "python",
   "pygments_lexer": "ipython3",
   "version": "3.6.8"
  }
 },
 "nbformat": 4,
 "nbformat_minor": 2
}
