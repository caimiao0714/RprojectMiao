{
 "cells": [
  {
   "cell_type": "markdown",
   "metadata": {},
   "source": [
    "# Using XGBoost to perform regression\n",
    "\n",
    "**Miao Cai**\n",
    "\n",
    "This is based on the datacamp online tutorial *Extreme Gradient Boosting with XGBoost*."
   ]
  },
  {
   "cell_type": "code",
   "execution_count": null,
   "metadata": {},
   "outputs": [],
   "source": [
    "## Common regression metrics\n",
    "\n",
    "- Root mean squared error (RMSE)\n",
    "- Mean absolute error (MAE)\n",
    "\n",
    "*RMSE* tends to punish larger differences between predicted and actual values much more than smaller ones. \n",
    "**MSE** tends to sum absolute differences across all of the samples we build our model on.\n",
    "\n",
    "\n"
   ]
  }
 ],
 "metadata": {
  "kernelspec": {
   "display_name": "p36ws",
   "language": "python",
   "name": "p36ws"
  },
  "language_info": {
   "codemirror_mode": {
    "name": "ipython",
    "version": 3
   },
   "file_extension": ".py",
   "mimetype": "text/x-python",
   "name": "python",
   "nbconvert_exporter": "python",
   "pygments_lexer": "ipython3",
   "version": "3.6.8"
  }
 },
 "nbformat": 4,
 "nbformat_minor": 2
}
